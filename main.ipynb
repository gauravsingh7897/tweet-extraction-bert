{
  "nbformat": 4,
  "nbformat_minor": 0,
  "metadata": {
    "language_info": {
      "codemirror_mode": {
        "name": "ipython",
        "version": 3
      },
      "file_extension": ".py",
      "mimetype": "text/x-python",
      "name": "python",
      "nbconvert_exporter": "python",
      "pygments_lexer": "ipython3",
      "version": "3.7.6-final"
    },
    "orig_nbformat": 2,
    "kernelspec": {
      "name": "python3",
      "display_name": "Python 3",
      "language": "python"
    },
    "colab": {
      "name": "notebook.ipynb",
      "provenance": [],
      "collapsed_sections": []
    },
    "accelerator": "GPU"
  },
  "cells": [
    {
      "cell_type": "code",
      "execution_count": null,
      "metadata": {},
      "outputs": [],
      "source": [
        "!pwd\n",
        "%cd drive/MyDrive/tweet-sentiment-extraction/\n",
        "!pip install transformers"
      ]
    },
    {
      "cell_type": "code",
      "execution_count": null,
      "metadata": {},
      "outputs": [],
      "source": [
        "import torch\n",
        "import tokenizers\n",
        "import transformers\n",
        "import pandas as pd\n",
        "import numpy as np\n",
        "from tqdm import tqdm\n",
        "from sklearn import metrics\n",
        "from sklearn.model_selection import train_test_split"
      ]
    },
    {
      "cell_type": "code",
      "metadata": {
        "id": "8BUfEUUVFH9b"
      },
      "source": [
        "df = pd.read_csv('./data/train.csv').dropna().reset_index(drop=True)\n",
        "df.drop(columns='textID', inplace=True)"
      ],
      "execution_count": null,
      "outputs": []
    },
    {
      "cell_type": "code",
      "metadata": {
        "id": "UNTd_hLDTxXt"
      },
      "source": [
        "a = [3292, 4105, 6256, 6783, 8612, 15546, 18345, 24991] ## Remove this indices because by adding them it increase MAX_LEN for our sentence tokens."
      ],
      "execution_count": null,
      "outputs": []
    },
    {
      "cell_type": "code",
      "metadata": {
        "id": "Yql7sO84S7Dp"
      },
      "source": [
        "for i in a:\r\n",
        "  df.drop(index=i, inplace=True)\r\n",
        "  df = df.reset_index(drop=True)"
      ],
      "execution_count": null,
      "outputs": []
    },
    {
      "cell_type": "code",
      "metadata": {
        "id": "sRZzH9B7FH9d"
      },
      "source": [
        "import tokenizers\n",
        "class TweetExtractionDataset(torch.utils.data.Dataset):\n",
        "    def __init__(self, texts, selected_texts, sentiments):\n",
        "        self.texts = texts\n",
        "        self.selected_texts = selected_texts\n",
        "        self.sentiments = sentiments\n",
        "        self.max_len   = 64\n",
        "        self.tokenizer = tokenizers.BertWordPieceTokenizer(\"./data/vocab.txt\", lowercase=True)\n",
        "    \n",
        "    def __getitem__(self, item):\n",
        "        question = \" \".join(str(self.sentiments[item]).split())\n",
        "        context = \" \".join(str(self.texts[item]).split())\n",
        "        answer = \" \".join(str(self.selected_texts[item]).split())\n",
        "\n",
        "        len_ans = len(answer)\n",
        "\n",
        "        start_idx = -1\n",
        "        end_idx   = -1\n",
        "\n",
        "\n",
        "        for i in (idx for idx, item in enumerate(context) if item == answer[0]):\n",
        "            if context[i:i+len_ans] == answer:\n",
        "                start_idx = i\n",
        "                end_idx   = i + len_ans\n",
        "                break\n",
        "        assert start_idx >= 0 & end_idx >= 0\n",
        "        char_context = [0] * len(context)\n",
        "\n",
        "        if start_idx!= -1 and end_idx!= -1:\n",
        "            for i, c in enumerate(context[start_idx:end_idx]):\n",
        "                if c != \" \":\n",
        "                    char_context[i+start_idx] = 1\n",
        "        \n",
        "        outputs = self.tokenizer.encode(context)\n",
        "        ids     = outputs.ids\n",
        "        tokens  = outputs.tokens\n",
        "        offsets = outputs.offsets\n",
        "\n",
        "        ids_vec = [0] * len(tokens[1:-1])\n",
        "\n",
        "        for i, (o1, o2) in enumerate(offsets[1:-1]):\n",
        "            if np.sum(char_context[o1:o2]) > 0:\n",
        "                ids_vec[i] = 1\n",
        "\n",
        "        \n",
        "        start_idx = ids_vec.index(1)\n",
        "        end_idx   = len(ids_vec) - 1 - ids_vec[::-1].index(1)\n",
        "\n",
        "        \n",
        "        ids            = self.tokenizer.encode(question).ids + ids[1:]\n",
        "        token_type_ids = [0,0,0] + [1] * (len(tokens) - 1)\n",
        "        masks          = [1] * len(ids)\n",
        "        pad_len = self.max_len - len(ids)\n",
        "\n",
        "        if pad_len > 0 :\n",
        "            ids            = ids + [0] * pad_len\n",
        "            token_type_ids = token_type_ids + [0] * pad_len\n",
        "            masks          = masks + [0] * pad_len\n",
        "\n",
        "        return {\n",
        "            \"ids\" : torch.tensor(ids, dtype=torch.long),\n",
        "            \"token_type_ids\" : torch.tensor(token_type_ids,dtype=torch.long),\n",
        "            \"masks\"  : torch.tensor(masks,dtype=torch.long),\n",
        "            \"text\" : context,\n",
        "            \"sentiment\"  : question,\n",
        "            \"selected_text\" :  answer,\n",
        "            \"start_idx\" : torch.tensor(start_idx+3, dtype=torch.long),\n",
        "            \"end_idx\" : torch.tensor(end_idx+3, dtype=torch.long)\n",
        "        }\n",
        "\n",
        "    def __len__(self):\n",
        "        return len(self.texts)\n",
        "\n",
        "\n",
        "dataset = TweetExtractionDataset(df.text, df.selected_text, df.sentiment)"
      ],
      "execution_count": null,
      "outputs": []
    },
    {
      "cell_type": "code",
      "metadata": {
        "id": "q4RAjGZXFH9d"
      },
      "source": [
        "train, test = train_test_split(df, test_size=0.15, random_state=42, stratify=df.sentiment.values)\n",
        "train       = train.reset_index(drop=True)\n",
        "test        = test.reset_index(drop=True)"
      ],
      "execution_count": null,
      "outputs": []
    },
    {
      "cell_type": "code",
      "metadata": {
        "id": "2l_chdtMFH9e"
      },
      "source": [
        "train_dataset = TweetExtractionDataset(train.text, train.selected_text, train.sentiment)\n",
        "test_dataset  = TweetExtractionDataset(test.text,  test.selected_text, test.sentiment)"
      ],
      "execution_count": null,
      "outputs": []
    },
    {
      "cell_type": "code",
      "metadata": {
        "id": "J1OSLKLVFH9f"
      },
      "source": [
        "train_data_loader = torch.utils.data.DataLoader(train_dataset, num_workers=0, batch_size=16)\n",
        "test_data_loader  = torch.utils.data.DataLoader(test_dataset, num_workers=0, batch_size=16)"
      ],
      "execution_count": null,
      "outputs": []
    },
    {
      "cell_type": "code",
      "metadata": {
        "colab": {
          "base_uri": "https://localhost:8080/"
        },
        "id": "vQ7cUQ3UFH9f",
        "outputId": "dbe96f60-ef2a-42a8-b2bd-ad75222911a7"
      },
      "source": [
        "model       = transformers.BertForQuestionAnswering.from_pretrained('bert-base-uncased')\n",
        "optimizer   = transformers.AdamW(model.parameters(), lr=2e-5)\n",
        "total_steps = int(len(df) / 16 * 20 ) \n",
        "schedular   = transformers.get_linear_schedule_with_warmup(optimizer,num_warmup_steps=0, num_training_steps=total_steps)"
      ],
      "execution_count": null,
      "outputs": []
    },
    {
      "cell_type": "code",
      "metadata": {
        "id": "nJuTKdOWFH9g"
      },
      "source": [
        "def train(model, data_loader, optimizer, schedular, device):\n",
        "\n",
        "    model.train()\n",
        "    total_train_loss = 0\n",
        "\n",
        "    for _, data in tqdm(enumerate(data_loader), total = len(data_loader)):\n",
        "        ids                  = data['ids'].to(device)\n",
        "        masks                = data['masks'].to(device)\n",
        "        token_type_ids       = data['token_type_ids'].to(device)\n",
        "        start_logits_targets = data['start_idx'].to(device)\n",
        "        end_logits_targets   = data['end_idx'].to(device)\n",
        "\n",
        "        optimizer.zero_grad()\n",
        "\n",
        "        outputs = model(ids, attention_mask=masks, token_type_ids=token_type_ids, start_positions=start_logits_targets, end_positions=end_logits_targets)\n",
        "\n",
        "        loss = outputs.loss\n",
        "        total_train_loss += loss.item()\n",
        "\n",
        "        loss.backward()\n",
        "        torch.nn.utils.clip_grad_norm_(model.parameters(), 1.0)\n",
        "        optimizer.step()\n",
        "        schedular.step()\n",
        "    \n",
        "    avg_train_loss = total_train_loss / len(data_loader)\n",
        "\n",
        "    print(f\"Average Loss during Training : {avg_train_loss}\")"
      ],
      "execution_count": null,
      "outputs": []
    },
    {
      "cell_type": "code",
      "metadata": {
        "id": "OFXZQ7ZaFH9g"
      },
      "source": [
        "def test(model, data_loader, device):\n",
        "\n",
        "    model.eval()\n",
        "    total_test_loss    = 0\n",
        "    start_accuracy     = 0\n",
        "    end_accuracy       = 0\n",
        "\n",
        "    for _ , data in tqdm(enumerate(data_loader), total=len(data_loader)):\n",
        "\n",
        "        ids                  = data['ids'].to(device)\n",
        "        masks                = data['masks'].to(device)\n",
        "        token_type_ids       = data['token_type_ids'].to(device)\n",
        "        start_logits_targets = data['start_idx'].to(device)\n",
        "        end_logits_targets   = data['end_idx'].to(device)\n",
        "\n",
        "        with torch.no_grad():\n",
        "\n",
        "            outputs = model(ids, attention_mask=masks, token_type_ids=token_type_ids, start_positions=start_logits_targets, end_positions=end_logits_targets)\n",
        "\n",
        "            loss = outputs.loss\n",
        "            total_test_loss += loss.item()\n",
        "\n",
        "            start_logits = np.argmax(outputs.start_logits.cpu().detach().numpy(),axis=1)\n",
        "            end_logits = np.argmax(outputs.end_logits.cpu().detach().numpy(),axis=1)\n",
        "\n",
        "            start_targets = start_logits_targets.cpu().detach().numpy()\n",
        "            end_targets   = end_logits_targets.cpu().detach().numpy()\n",
        "\n",
        "            start_accuracy += metrics.accuracy_score(start_targets, start_logits)\n",
        "            end_accuracy  += metrics.accuracy_score(end_targets, end_logits)\n",
        "\n",
        "\n",
        "    avg_test_loss = total_test_loss / len(data_loader)\n",
        "\n",
        "    time.sleep(3)\n",
        "    print(f\"Average Test Loss : {avg_test_loss}\")\n",
        "\n",
        "    start_accuracy = start_accuracy / len(data_loader)\n",
        "    end_accuracy   = end_accuracy / len(data_loader)\n",
        "\n",
        "\n",
        "    accuracy = (start_accuracy + end_accuracy) / 2\n",
        "\n",
        "    print(f\"Accuracy : {accuracy}\")\n",
        "    ### This is not a good metrics for this problem it just for demo purpose we can use other metrics. I will optimize it later.\n",
        "\n",
        "    if accuracy > best_accuarcy:\n",
        "        torch.save(model.state_dict(), \"saved_model.bin\")\n",
        "        best_accuracy = accuracy"
      ],
      "execution_count": null,
      "outputs": []
    },
    {
      "cell_type": "code",
      "execution_count": null,
      "metadata": {},
      "outputs": [],
      "source": [
        "best_accuarcy = 0\n",
        "device = torch.device('cuda')\n",
        "\n",
        "model.to(device)\n",
        "\n",
        "for i in range(20):\n",
        "    print(f\"Epochs : {i}\")\n",
        "    train(model, train_data_loader, optimizer, schedular, device)\n",
        "    test(model, test_data_loader, device)"
      ]
    }
  ]
}